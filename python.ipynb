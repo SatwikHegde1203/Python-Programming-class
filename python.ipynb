{
  "nbformat": 4,
  "nbformat_minor": 0,
  "metadata": {
    "colab": {
      "provenance": [],
      "authorship_tag": "ABX9TyP9XJKbaC85+S8z8EMNj8De",
      "include_colab_link": true
    },
    "kernelspec": {
      "name": "python3",
      "display_name": "Python 3"
    },
    "language_info": {
      "name": "python"
    }
  },
  "cells": [
    {
      "cell_type": "markdown",
      "metadata": {
        "id": "view-in-github",
        "colab_type": "text"
      },
      "source": [
        "<a href=\"https://colab.research.google.com/github/SatwikHegde1203/Python-Programming-class/blob/main/python.ipynb\" target=\"_parent\"><img src=\"https://colab.research.google.com/assets/colab-badge.svg\" alt=\"Open In Colab\"/></a>"
      ]
    },
    {
      "cell_type": "code",
      "execution_count": null,
      "metadata": {
        "colab": {
          "base_uri": "https://localhost:8080/"
        },
        "id": "CRg98ngXQRzL",
        "outputId": "2199e988-f108-45fb-93ed-301581115798"
      },
      "outputs": [
        {
          "output_type": "stream",
          "name": "stdout",
          "text": [
            "Current time:  2024-09-09 10:15:55.981583\n",
            "Current time after 2 seconds:  2024-09-09 10:15:57.985435\n"
          ]
        }
      ],
      "source": [
        "#write a program that dsiplays current time and pause for 2 sec and display cuurent time again\n",
        "\n",
        "import datetime\n",
        "import time\n",
        "\n",
        "# Get the current time\n",
        "current_time = datetime.datetime.now()\n",
        "print(\"Current time: \", current_time)\n",
        "\n",
        "# Pause for 2 seconds\n",
        "time.sleep(2)\n",
        "\n",
        "# Get the current time again\n",
        "current_time = datetime.datetime.now()\n",
        "print(\"Current time after 2 seconds: \", current_time)\n"
      ]
    },
    {
      "cell_type": "code",
      "source": [
        "def sap_ids_to_email_addresses(sap_ids):\n",
        "    email_addresses = []\n",
        "    for sap_id in sap_ids:\n",
        "        email_address = f\"{sap_id}@example.com\"\n",
        "        email_addresses.append(email_address)\n",
        "    return email_addresses\n",
        "\n",
        "# Example usage:\n",
        "sap_ids = [\"SAP001\", \"SAP002\", \"SAP003\"]\n",
        "email_addresses = sap_ids_to_email_addresses(sap_ids)\n",
        "print(email_addresses)  # Output: [\"SAP001@example.com\", \"SAP002@example.com\", \"SAP003@example.com\"]"
      ],
      "metadata": {
        "colab": {
          "base_uri": "https://localhost:8080/"
        },
        "id": "yiBc4d4vom-I",
        "outputId": "fbe6b915-8ed7-4b46-cdf2-1f266942c5e6"
      },
      "execution_count": null,
      "outputs": [
        {
          "output_type": "stream",
          "name": "stdout",
          "text": [
            "['SAP001@example.com', 'SAP002@example.com', 'SAP003@example.com']\n"
          ]
        }
      ]
    },
    {
      "cell_type": "code",
      "source": [
        "import os\n",
        "\n",
        "def get_files_in_directory():\n",
        "    # Get the directory address from the user\n",
        "    directory_address = input(\"Please enter the directory address: \")\n",
        "\n",
        "    try:\n",
        "        # Get a list of all files and directories in the specified directory\n",
        "        files_and_directories = os.listdir(directory_address)\n",
        "\n",
        "        # Filter out directories and only keep files\n",
        "        files = [file for file in files_and_directories if os.path.isfile(os.path.join(directory_address, file))]\n",
        "\n",
        "        # Return the list of files\n",
        "        return files\n",
        "\n",
        "    except FileNotFoundError:\n",
        "        print(\"The specified directory does not exist.\")\n",
        "        return []\n",
        "    except PermissionError:\n",
        "        print(\"You do not have permission to access the specified directory.\")\n",
        "        return []\n",
        "    except Exception as e:\n",
        "        print(\"An error occurred: \", str(e))\n",
        "        return []\n",
        "\n",
        "def main():\n",
        "    files = get_files_in_directory()\n",
        "    if files:\n",
        "        print(\"Files in the directory:\")\n",
        "        for file in files:\n",
        "            print(file)\n",
        "\n",
        "if __name__ == \"__main__\":\n",
        "    main()"
      ],
      "metadata": {
        "colab": {
          "base_uri": "https://localhost:8080/"
        },
        "id": "hwIf40rbSF0s",
        "outputId": "310971b5-3550-410d-c5d8-ea9139d15f58"
      },
      "execution_count": null,
      "outputs": [
        {
          "output_type": "stream",
          "name": "stdout",
          "text": [
            "Please enter the directory address: https://colab.research.google.com/drive/1uW2CS9oEDq1d0HHkfSFh8FQk57lTcQaY#scrollTo=hwIf40rbSF0s\n",
            "The specified directory does not exist.\n"
          ]
        }
      ]
    },
    {
      "cell_type": "code",
      "source": [
        "def sap_ids_to_email_addresses():\n",
        "    sap_ids = input(\"Enter a list of SAP IDs (separated by commas): \")\n",
        "    sap_ids = [sap_id.strip() for sap_id in sap_ids.split(\",\")]\n",
        "    email_addresses = []\n",
        "    for sap_id in sap_ids:\n",
        "        email_address = f\"{sap_id}@stu.upes.ac.in\"\n",
        "        email_addresses.append(email_address)\n",
        "    print(\"Email addresses:\")\n",
        "    for email_address in email_addresses:\n",
        "        print(email_address)\n",
        "\n",
        "# Call the function\n",
        "sap_ids_to_email_addresses()"
      ],
      "metadata": {
        "colab": {
          "base_uri": "https://localhost:8080/"
        },
        "id": "4SPo3oC3o8bL",
        "outputId": "41d1400c-f500-44ff-97dd-2ed66eab2843"
      },
      "execution_count": null,
      "outputs": [
        {
          "output_type": "stream",
          "name": "stdout",
          "text": [
            "Enter a list of SAP IDs (separated by commas): 234, 356, 689, 456\n",
            "Email addresses:\n",
            "234@stu.upes.ac.in\n",
            "356@stu.upes.ac.in\n",
            "689@stu.upes.ac.in\n",
            "456@stu.upes.ac.in\n"
          ]
        }
      ]
    },
    {
      "cell_type": "code",
      "source": [
        "def sap_ids_to_email_addresses():\n",
        "    sap_ids = input(\"Enter a list of SAP IDs (separated by commas): \")\n",
        "    sap_ids = list(filter(None, map(str.strip, sap_ids.split(\",\"))))\n",
        "    email_addresses = list(map(lambda sap_id: f\"{sap_id}@stu.upes.ac.in\", sap_ids))\n",
        "    print(\"Email addresses:\")\n",
        "    for email_address in email_addresses:\n",
        "        print(email_address)\n",
        "\n",
        "# Call the function\n",
        "sap_ids_to_email_addresses()"
      ],
      "metadata": {
        "colab": {
          "base_uri": "https://localhost:8080/"
        },
        "id": "7AUFxVDwpLPO",
        "outputId": "dd9157f8-2008-4114-9069-72fd9bdb4b32"
      },
      "execution_count": null,
      "outputs": [
        {
          "output_type": "stream",
          "name": "stdout",
          "text": [
            "Enter a list of SAP IDs (separated by commas): 123, 456, 789\n",
            "Email addresses:\n",
            "123@stu.upes.ac.in\n",
            "456@stu.upes.ac.in\n",
            "789@stu.upes.ac.in\n"
          ]
        }
      ]
    },
    {
      "cell_type": "code",
      "source": [
        "# Get the list of SAP IDs from the user\n",
        "sap_ids = input(\"Enter a list of SAP IDs separated by space: \").split()\n",
        "\n",
        "# Get the domain name from the user\n",
        "domain_name = input(\"Enter the domain name: \")\n",
        "\n",
        "# Use list comprehension to create a list of email addresses\n",
        "email_addresses = [f\"{sap_id}@{domain_name}\" for sap_id in sap_ids]\n",
        "\n",
        "# Print the list of email addresses\n",
        "print(email_addresses)"
      ],
      "metadata": {
        "colab": {
          "base_uri": "https://localhost:8080/"
        },
        "id": "wrf-jxnPqJsV",
        "outputId": "4728ab94-e69b-4bd6-ef33-1ea6b0a7aea8"
      },
      "execution_count": null,
      "outputs": [
        {
          "output_type": "stream",
          "name": "stdout",
          "text": [
            "Enter a list of SAP IDs separated by space: 123, 456, 789\n",
            "Enter the domain name: stu.upes.ac.in\n",
            "['123,@stu.upes.ac.in', '456,@stu.upes.ac.in', '789@stu.upes.ac.in']\n"
          ]
        }
      ]
    }
  ]
}