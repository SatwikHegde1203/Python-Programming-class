{
  "nbformat": 4,
  "nbformat_minor": 0,
  "metadata": {
    "colab": {
      "provenance": [],
      "authorship_tag": "ABX9TyMTHYPqBUcvI9fWu1pFVyoG",
      "include_colab_link": true
    },
    "kernelspec": {
      "name": "python3",
      "display_name": "Python 3"
    },
    "language_info": {
      "name": "python"
    }
  },
  "cells": [
    {
      "cell_type": "markdown",
      "metadata": {
        "id": "view-in-github",
        "colab_type": "text"
      },
      "source": [
        "<a href=\"https://colab.research.google.com/github/SatwikHegde1203/Python-Programming-class/blob/main/Python_Assignment_1.ipynb\" target=\"_parent\"><img src=\"https://colab.research.google.com/assets/colab-badge.svg\" alt=\"Open In Colab\"/></a>"
      ]
    },
    {
      "cell_type": "code",
      "execution_count": 1,
      "metadata": {
        "colab": {
          "base_uri": "https://localhost:8080/"
        },
        "id": "x_nMADmjziJE",
        "outputId": "32566440-a0ba-4387-9703-f4090f94fca8"
      },
      "outputs": [
        {
          "output_type": "stream",
          "name": "stdout",
          "text": [
            "Enter your First NameSatwik\n",
            "Enter your Last NameHegde\n",
            "Hegde Satwik\n"
          ]
        }
      ],
      "source": [
        "#taking inputs from user as first and last name\n",
        "first_name = (input(\"Enter your First Name \"))\n",
        "last_name = (input(\"Enter your Last Name \"))\n",
        "#using string methods\n",
        "#capitalize()is used for capitalizing the first letter of string\n",
        "#strip() is used for removing the trial spaces\n",
        "\n",
        "first_name = first_name.capitalize()\n",
        "last_name = last_name.capitalize()\n",
        "print(last_name +\" \"+ first_name)"
      ]
    },
    {
      "cell_type": "code",
      "source": [
        "#convert a float first to handle decimal part\n",
        "#taking inputs from user\n",
        "user_input = input(\"Enter a number:\")\n",
        "\n",
        "#converting the input to the different numeric data types\n",
        "#int() converts the input to an integer\n",
        "\n",
        "int_value = int(float(user_input))\n",
        "#convert a float first to handle decimal part\n",
        "float_value = float(user_input)\n",
        "#complex() converts the input to a complex number\n",
        "complex_value = complex(user_input)\n",
        "#displaying the converted values\n",
        "print(f\"Integer value:{int_value}\")\n",
        "print(f\"Float value: {float_value}\")\n",
        "print(f\"Complex value :{complex_value}\")"
      ],
      "metadata": {
        "colab": {
          "base_uri": "https://localhost:8080/"
        },
        "id": "Ji7USey800t6",
        "outputId": "d7a8db0e-219b-4de7-95af-aa416eebe187"
      },
      "execution_count": 2,
      "outputs": [
        {
          "output_type": "stream",
          "name": "stdout",
          "text": [
            "Enter a number:12\n",
            "Integer value:12\n",
            "Float value: 12.0\n",
            "Complex value :(12+0j)\n"
          ]
        }
      ]
    },
    {
      "cell_type": "code",
      "source": [
        "#taking inputs from user\n",
        "length=  int(input(\" Enter the length of rectangle: \"))\n",
        "breadth=  int(input(\" Enter the breadth of rectangle: \"))\n",
        "# calculating the area of rectangle\n",
        "area = length * breadth\n",
        "print (f\"the area of rectangle is :{area}\")"
      ],
      "metadata": {
        "colab": {
          "base_uri": "https://localhost:8080/"
        },
        "id": "KkKfYRJc1Du-",
        "outputId": "2d5b901a-7d04-4bff-e641-a50eca2b30c9"
      },
      "execution_count": 3,
      "outputs": [
        {
          "output_type": "stream",
          "name": "stdout",
          "text": [
            " Enter the length of rectangle: 2\n",
            " Enter the breadth of rectangle: 4\n",
            "the area of rectangle is :8\n"
          ]
        }
      ]
    },
    {
      "cell_type": "code",
      "source": [
        "# Prompt the user to enter the length and width of the rectangle\n",
        "length = int(input(\"Enter the length of the rectangle: \"))\n",
        "width = int(input(\"Enter the width of the rectangle: \"))\n",
        "\n",
        "# Calculate the area of the rectangle\n",
        "area = length * width\n",
        "\n",
        "# Display the result using the format method to show two decimal places\n",
        "print(\"The area of the rectangle is: {:.2f} square units\".format(area))"
      ],
      "metadata": {
        "colab": {
          "base_uri": "https://localhost:8080/"
        },
        "id": "eHUkmnk61MNa",
        "outputId": "b21436b9-5072-47b3-aa1c-5e88fafcb41a"
      },
      "execution_count": 4,
      "outputs": [
        {
          "output_type": "stream",
          "name": "stdout",
          "text": [
            "Enter the length of the rectangle: 2\n",
            "Enter the width of the rectangle: 6\n",
            "The area of the rectangle is: 12.00 square units\n"
          ]
        }
      ]
    },
    {
      "cell_type": "code",
      "source": [
        "#taking inputs from user\n",
        "num1= int (input(\"enter the number\"))\n",
        "num2 = int (input(\"enter the number\"))\n",
        "num3 = int(input(\"enter the number\"))\n",
        "#taking average of the number\n",
        "average= num1+num2+num3/3\n",
        "print(\"the average of three numbers are:\", average)"
      ],
      "metadata": {
        "colab": {
          "base_uri": "https://localhost:8080/"
        },
        "id": "5knZxA0t1W0j",
        "outputId": "dd8eee1b-9df9-4611-83b5-ca8ab7b4af20"
      },
      "execution_count": 5,
      "outputs": [
        {
          "output_type": "stream",
          "name": "stdout",
          "text": [
            "enter the number90\n",
            "enter the number12\n",
            "enter the number34\n",
            "the average of three numbers are: 113.33333333333333\n"
          ]
        }
      ]
    },
    {
      "cell_type": "code",
      "source": [
        "while True:\n",
        "    # Prompt the user for input\n",
        "    user_input = input(\"Enter a number (or type 'exit' to quit): \").lower()\n",
        "\n",
        "    # Check if the user wants to exit\n",
        "    if user_input == 'exit':\n",
        "        print(\"Exiting the program.\")\n",
        "        break  # Exit the loop if the input is 'exit'\n",
        "\n",
        "    try:\n",
        "        # Convert the input to a float for numeric comparison\n",
        "        number = float(user_input)\n",
        "\n",
        "        # Check if the number is positive, negative, or zero\n",
        "        if number > 0:\n",
        "            print(\"The number is positive.\")\n",
        "        elif number < 0:\n",
        "            print(\"The number is negative.\")\n",
        "        else:\n",
        "            print(\"The number is zero.\")\n",
        "    except ValueError:\n",
        "        # Handle cases where the input is not a valid number\n",
        "        print(\"Please enter a valid number.\")"
      ],
      "metadata": {
        "colab": {
          "base_uri": "https://localhost:8080/"
        },
        "id": "gTj7S_z41kPC",
        "outputId": "14c780b7-f0ab-45df-d82e-3f0767a8072a"
      },
      "execution_count": 7,
      "outputs": [
        {
          "output_type": "stream",
          "name": "stdout",
          "text": [
            "Enter a number (or type 'exit' to quit): 12\n",
            "The number is positive.\n",
            "Enter a number (or type 'exit' to quit): -98\n",
            "The number is negative.\n",
            "Enter a number (or type 'exit' to quit): exit\n",
            "Exiting the program.\n"
          ]
        }
      ]
    },
    {
      "cell_type": "code",
      "source": [
        "# Taking two numbers as input from the user\n",
        "num1 = int(input(\"Enter the first number: \"))\n",
        "num2 = int(input(\"Enter the second number: \"))\n",
        "\n",
        "# Checking whether both numbers are even\n",
        "if num1 % 2 == 0 and num2 % 2 == 0:\n",
        "    print(\"Both numbers are even.\")\n",
        "# Checking whether both numbers are odd\n",
        "elif num1 % 2 != 0 and num2 % 2 != 0:\n",
        "    print(\"Both numbers are odd.\")\n",
        "# If neither of the above conditions are true, one number is even and the other is odd\n",
        "else:\n",
        "    print(\"One number is even and the other is odd.\")"
      ],
      "metadata": {
        "colab": {
          "base_uri": "https://localhost:8080/"
        },
        "id": "OrG3632K1weS",
        "outputId": "cd477d67-5b04-43fc-fd8d-9e39fba4572d"
      },
      "execution_count": 8,
      "outputs": [
        {
          "output_type": "stream",
          "name": "stdout",
          "text": [
            "Enter the first number: 12\n",
            "Enter the second number: 34\n",
            "Both numbers are even.\n"
          ]
        }
      ]
    },
    {
      "cell_type": "code",
      "source": [
        "# Taking an integer input from the user\n",
        "num = int(input(\"Enter an integer: \"))\n",
        "\n",
        "# Dictionary to store the conversions\n",
        "conversions = {\"Binary\": bin(num), \"Octal\": oct(num), \"Hexadecimal\": hex(num)}\n",
        "\n",
        "# For loop to iterate over the dictionary and print results\n",
        "for base, value in conversions.items():\n",
        "    print(f\"{base} equivalent: {value[2:].upper()}\")\n",
        "# Remove '0b', '0o', '0x' prefix and convert to uppercase for hex"
      ],
      "metadata": {
        "colab": {
          "base_uri": "https://localhost:8080/"
        },
        "id": "iZgKbD2G16mb",
        "outputId": "69e71163-6321-43b0-c0a2-42ec41e77e8d"
      },
      "execution_count": 9,
      "outputs": [
        {
          "output_type": "stream",
          "name": "stdout",
          "text": [
            "Enter an integer: 23\n",
            "Binary equivalent: 10111\n",
            "Octal equivalent: 27\n",
            "Hexadecimal equivalent: 17\n"
          ]
        }
      ]
    }
  ]
}